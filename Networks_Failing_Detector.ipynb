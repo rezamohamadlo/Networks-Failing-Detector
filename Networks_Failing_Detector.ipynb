{
  "nbformat": 4,
  "nbformat_minor": 0,
  "metadata": {
    "colab": {
      "provenance": [],
      "authorship_tag": "ABX9TyMgQOT8BsqqiZKQsv8C0+ly",
      "include_colab_link": true
    },
    "kernelspec": {
      "name": "python3",
      "display_name": "Python 3"
    },
    "language_info": {
      "name": "python"
    }
  },
  "cells": [
    {
      "cell_type": "markdown",
      "metadata": {
        "id": "view-in-github",
        "colab_type": "text"
      },
      "source": [
        "<a href=\"https://colab.research.google.com/github/rezamohamadlo/Networks-Failing-Detector/blob/main/Networks_Failing_Detector.ipynb\" target=\"_parent\"><img src=\"https://colab.research.google.com/assets/colab-badge.svg\" alt=\"Open In Colab\"/></a>"
      ]
    },
    {
      "cell_type": "code",
      "execution_count": 1,
      "metadata": {
        "id": "iXhrrmy0Ace0"
      },
      "outputs": [],
      "source": [
        "# Importing necessary libraries\n",
        "import numpy as np  # NumPy is used for numerical operations and handling arrays\n",
        "import matplotlib.pyplot as plt  # Matplotlib is used for creating visualizations and plots\n",
        "\n",
        "# Importing utility functions from a custom module\n",
        "from utils import *  # This imports all functions and classes defined in the 'utils' module\n",
        "\n",
        "# Ensuring that plots are displayed inline\n",
        "%matplotlib inline"
      ]
    },
    {
      "cell_type": "code",
      "source": [
        "def estimate_gaussian(X):\n",
        "    \"\"\"\n",
        "    Calculates mean and variance of all features in the dataset\n",
        "\n",
        "    Args:\n",
        "        X (ndarray): (m, n) Data matrix\n",
        "\n",
        "    Returns:\n",
        "        mu (ndarray): (n,) Mean of all features\n",
        "        var (ndarray): (n,) Variance of all features\n",
        "    \"\"\"\n",
        "\n",
        "    m, n = X.shape\n",
        "\n",
        "    mu = 1 / m * np.sum(X, axis = 0)\n",
        "    var = 1 / m * np.sum((X - mu) ** 2, axis = 0)\n",
        "\n",
        "\n",
        "    return mu, var"
      ],
      "metadata": {
        "id": "RxEvXowLBcyL"
      },
      "execution_count": 2,
      "outputs": []
    },
    {
      "cell_type": "code",
      "source": [
        "\n",
        "def select_threshold(y_val, p_val):\n",
        "    \"\"\"\n",
        "    Finds the best threshold to use for selecting outliers\n",
        "    based on the results from a validation set (p_val)\n",
        "    and the ground truth (y_val)\n",
        "\n",
        "    Args:\n",
        "        y_val (ndarray): Ground truth on validation set\n",
        "        p_val (ndarray): Results on validation set\n",
        "\n",
        "    Returns:\n",
        "        epsilon (float): Threshold chosen\n",
        "        F1 (float):      F1 score by choosing epsilon as threshold\n",
        "    \"\"\"\n",
        "\n",
        "    best_epsilon = 0\n",
        "    best_F1 = 0\n",
        "    F1 = 0\n",
        "\n",
        "    step_size = (max(p_val) - min(p_val)) / 1000\n",
        "\n",
        "    for epsilon in np.arange(min(p_val), max(p_val), step_size):\n",
        "\n",
        "        predictions = (p_val < epsilon)\n",
        "        tp = np.sum((predictions == 1) & (y_val == 1))\n",
        "        fn = np.sum((predictions == 0) & (y_val == 1))\n",
        "        fp = sum((predictions == 1) & (y_val == 0))\n",
        "        prec = tp / (tp + fp)\n",
        "        rec = tp / (tp + fn)\n",
        "        F1 = 2 * prec * rec / (prec + rec)\n",
        "\n",
        "        if F1 > best_F1:\n",
        "            best_F1 = F1\n",
        "            best_epsilon = epsilon\n",
        "\n",
        "    return best_epsilon, best_F1"
      ],
      "metadata": {
        "id": "daSmOnYcBctZ"
      },
      "execution_count": 3,
      "outputs": []
    },
    {
      "cell_type": "code",
      "source": [
        "# Load training and validation datasets\n",
        "\n",
        "# Load the training data features from the specified file\n",
        "X_train_high = np.load(\"/content/X_part2.npy\")\n",
        "# X_train_high will contain the feature matrix for the training set\n",
        "\n",
        "# Load the validation data features from the specified file\n",
        "X_val_high = np.load(\"/content/X_val_part2.npy\")\n",
        "# X_val_high will contain the feature matrix for the validation set\n",
        "\n",
        "# Load the validation data labels from the specified file\n",
        "y_val_high = np.load(\"/content/y_val_part2.npy\")\n",
        "# y_val_high will contain the ground truth labels for the validation set"
      ],
      "metadata": {
        "id": "gGfAq6ieBcos"
      },
      "execution_count": 4,
      "outputs": []
    },
    {
      "cell_type": "code",
      "source": [
        "# Print the shapes of the loaded datasets to understand their dimensions\n",
        "\n",
        "# Print the shape of the training feature matrix\n",
        "print('The shape of X_train_high is:', X_train_high.shape)\n",
        "# This will output the dimensions of X_train_high in the format (number of samples, number of features)\n",
        "\n",
        "# Print the shape of the validation feature matrix\n",
        "print('The shape of X_val_high is:', X_val_high.shape)\n",
        "# This will output the dimensions of X_val_high in the format (number of samples, number of features)\n",
        "\n",
        "# Print the shape of the validation labels\n",
        "print('The shape of y_val_high is:', y_val_high.shape)\n",
        "# This will output the dimensions of y_val_high, which should be (number of samples,) for a 1D array"
      ],
      "metadata": {
        "colab": {
          "base_uri": "https://localhost:8080/"
        },
        "id": "Wur2j24YBcmJ",
        "outputId": "f30eb551-5ea3-48f3-fa8d-1efff2ca81ba"
      },
      "execution_count": 5,
      "outputs": [
        {
          "output_type": "stream",
          "name": "stdout",
          "text": [
            "The shape of X_train_high is: (1000, 11)\n",
            "The shape of X_val_high is: (100, 11)\n",
            "The shape of y_val_high is: (100,)\n"
          ]
        }
      ]
    },
    {
      "cell_type": "code",
      "source": [
        "# Estimate the Gaussian parameters\n",
        "mu_high, var_high = estimate_gaussian(X_train_high)\n",
        "\n",
        "# Evaluate the probabilites for the training set\n",
        "p_high = multivariate_gaussian(X_train_high, mu_high, var_high)\n",
        "\n",
        "# Evaluate the probabilites for the cross validation set\n",
        "p_val_high = multivariate_gaussian(X_val_high, mu_high, var_high)\n",
        "\n",
        "# Find the best threshold\n",
        "epsilon_high, F1_high = select_threshold(y_val_high, p_val_high)\n",
        "\n",
        "print('Best epsilon found using cross-validation: %e'% epsilon_high)\n",
        "print('Best F1 on Cross Validation Set:  %f'% F1_high)\n",
        "print('# Anomalies found: %d'% sum(p_high < epsilon_high))"
      ],
      "metadata": {
        "colab": {
          "base_uri": "https://localhost:8080/"
        },
        "id": "9GtprqYqBcjZ",
        "outputId": "05718b30-635f-447c-b1f4-bf27d10f8259"
      },
      "execution_count": 6,
      "outputs": [
        {
          "output_type": "stream",
          "name": "stdout",
          "text": [
            "Best epsilon found using cross-validation: 1.377229e-18\n",
            "Best F1 on Cross Validation Set:  0.615385\n",
            "# Anomalies found: 117\n"
          ]
        },
        {
          "output_type": "stream",
          "name": "stderr",
          "text": [
            "<ipython-input-3-7be80ad6c7b6>:32: RuntimeWarning: invalid value encountered in scalar divide\n",
            "  prec = tp / (tp + fp)\n"
          ]
        }
      ]
    },
    {
      "cell_type": "code",
      "source": [],
      "metadata": {
        "id": "phZibOvcBceo"
      },
      "execution_count": 6,
      "outputs": []
    }
  ]
}